{
 "cells": [
  {
   "cell_type": "markdown",
   "metadata": {},
   "source": [
    "Note: to view the plotly maps, use the nbviewer: https://nbviewer.jupyter.org/github/NickVance/Name-Country-and-Gender-Analysis/blob/master/Chicago%20Marathon%202018%20-%20Name%2C%20Country%2C%20and%20Gender%20Analysis.ipynb \n",
    "\n",
    "I analyzed the finishers data of the 2018 Chicago Marathon, looking for some insights into the breakdown of names, countries, and genders of the finishers. This method of analysis could easily be extended to examine similar things whenever you have a list of people along with their name, country, and gender.\n",
    "\n",
    "I personally scraped the data from the official Chicago Marathon website the day after the event. Next, I did some preprocessing and cleaned the data, eventually ending up with a CSV file I called: Chicago_Marathon_2018_Results_Clean.txt . You are free to use that file to do your own analysis, but please link back to this page if you do so."
   ]
  },
  {
   "cell_type": "markdown",
   "metadata": {},
   "source": [
    "First, I imported the libraries I will need: pandas for data maniuplation and plotly for visualizations. You need your own plotly username and API code to use it, which you can insert into 'Your_Name' and 'Your_API_Code'"
   ]
  },
  {
   "cell_type": "code",
   "execution_count": 98,
   "metadata": {},
   "outputs": [
    {
     "data": {
      "text/html": [
       "<script type=\"text/javascript\">window.PlotlyConfig = {MathJaxConfig: 'local'};</script><script type=\"text/javascript\">if (window.MathJax) {MathJax.Hub.Config({SVG: {font: \"STIX-Web\"}});}</script><script>requirejs.config({paths: { 'plotly': ['https://cdn.plot.ly/plotly-latest.min']},});if(!window._Plotly) {require(['plotly'],function(plotly) {window._Plotly=plotly;});}</script>"
      ],
      "text/vnd.plotly.v1+html": [
       "<script type=\"text/javascript\">window.PlotlyConfig = {MathJaxConfig: 'local'};</script><script type=\"text/javascript\">if (window.MathJax) {MathJax.Hub.Config({SVG: {font: \"STIX-Web\"}});}</script><script>requirejs.config({paths: { 'plotly': ['https://cdn.plot.ly/plotly-latest.min']},});if(!window._Plotly) {require(['plotly'],function(plotly) {window._Plotly=plotly;});}</script>"
      ]
     },
     "metadata": {},
     "output_type": "display_data"
    }
   ],
   "source": [
    "import pandas as pd\n",
    "\n",
    "import plotly as py\n",
    "import plotly.offline as offline\n",
    "\n",
    "#plotly_username = 'Your_Name'\n",
    "#plotly_api_key = 'Your_Api_Code'\n",
    "plotly_username = 'NickVance'\n",
    "plotly_api_key = 'B83jM1egoVPZgFvXyetY'\n",
    "py.tools.set_credentials_file(username=plotly_username, api_key=plotly_api_key)\n",
    "\n",
    "#Needed to view the plotly plots in a Jupyter Notebook\n",
    "offline.init_notebook_mode(connected=True)\n",
    "\n",
    "import warnings\n",
    "#Ignore depracation warnings for this notebook\n",
    "warnings.filterwarnings('ignore')"
   ]
  },
  {
   "cell_type": "markdown",
   "metadata": {},
   "source": [
    "Plotly uses ISO-3 country codes, but the Chicago Marathon does not. I wasn't able to find out which system the Chicago Marathon actually uses, so I had to do these conversions on my own. There may be a faster way to do this, but this works. It requires the file IS03_Country_Codes.txt"
   ]
  },
  {
   "cell_type": "code",
   "execution_count": 99,
   "metadata": {},
   "outputs": [],
   "source": [
    "ISO3_Codes = pd.DataFrame\n",
    "ISO3_Codes = pd.read_table('ISO3_Country_Codes.txt', encoding='utf8')\n",
    "ISO3_Codes = ISO3_Codes[['name', 'alpha-3']]\n",
    "\n",
    "Codes_to_ISO3 = {}\n",
    "Codes_to_ISO3.update(\n",
    "        {'GER': 'DEU',\n",
    "         'CRC': 'CRI',\n",
    "         'TPE': 'TWN',\n",
    "         'NED': 'NLD',\n",
    "         'INA': 'IDN',\n",
    "         'GUA': 'GTM',\n",
    "         'POR': 'PRT',\n",
    "         'CHI': 'CHL',\n",
    "         'PHI': 'PHL',\n",
    "         'SUI': 'CHE',\n",
    "         'DEN': 'DNK',\n",
    "         'SIN': 'SGP',\n",
    "         'MAS': 'MYS',\n",
    "         'PUR': 'PRI',\n",
    "         'ESA': 'SLV',\n",
    "         'HON': 'HND',\n",
    "         'SLO': 'SVK',\n",
    "         'PAR': 'PRY',\n",
    "         'RSA': 'ZAF',\n",
    "         \"ALG\":\"DZA\",\n",
    "         \"ARU\":\"ABW\",\n",
    "         \"BAH\":\"BHS\",\n",
    "         \"BAN\":\"BGD\",\n",
    "         \"BAR\":\"BRB\",\n",
    "         \"BER\":\"BMU\",\n",
    "         \"BIZ\":\"BLZ\",\n",
    "         \"BUL\":\"BGR\",\n",
    "         \"CAY\":\"CYM\",\n",
    "         \"CRO\":\"HRV\",\n",
    "         \"GRE\":\"GRC\",\n",
    "         \"IRI\":\"IRN\",\n",
    "         \"KSA\":\"SAU\",\n",
    "         \"KUW\":\"KWT\",\n",
    "         \"LAT\":\"LVA\",\n",
    "         \"LIB\":\"LBY\",\n",
    "         \"MAW\":\"MWI\",\n",
    "         \"MGL\":\"MNG\",\n",
    "         \"MRI\":\"MRT\",\n",
    "         \"NCA\":\"NIC\",\n",
    "         \"NEP\":\"NPL\",\n",
    "         \"NGR\":\"NGA\",\n",
    "         \"PLE\":\"PSE\",\n",
    "         \"TAN\":\"TZA\",\n",
    "         \"TRI\":\"TTO\",\n",
    "         \"UAE\":\"ARE\",\n",
    "         \"URU\":\"URY\",\n",
    "         \"VIE\":\"VNM\",\n",
    "         \"ZAM\":\"ZMB\",\n",
    "         \"ZIM\":\"ZWE\",                      \n",
    "         })"
   ]
  },
  {
   "cell_type": "markdown",
   "metadata": {},
   "source": [
    "Now I import the finishers data from the CSV file I created and clean it up a bit."
   ]
  },
  {
   "cell_type": "code",
   "execution_count": 100,
   "metadata": {},
   "outputs": [
    {
     "name": "stdout",
     "output_type": "stream",
     "text": [
      "No country code errors\n"
     ]
    }
   ],
   "source": [
    "Names = pd.DataFrame\n",
    "Names = pd.read_table('Chicago_Marathon_2018_Results_Clean.txt', delimiter=',')\n",
    "\n",
    "#Separate full name into first and last names\n",
    "Names['Last Name'], Names['First Name']  = Names['Full Name'].str.split(', ', 1).str\n",
    "Names['First Name'].fillna('none', inplace=True)\n",
    "Names['Count'] = 1\n",
    "del Names['Full Name']\n",
    "\n",
    "#Change the country code to match the ISO-3 code, where needed\n",
    "Names['Country'] = Names.apply(lambda row: Codes_to_ISO3[row['Country']] if row['Country'] in Codes_to_ISO3 else row['Country'], axis = 1)\n",
    "Agg_Country = Names.groupby('Country', as_index=False).count()[['Country', 'Count']]\n",
    "\n",
    "#This tests to make sure all of the country codes in my data are a valid ISO-3 code\n",
    "Country_Code_Test = Agg_Country.copy()\n",
    "Country_Code_Test = pd.merge(Country_Code_Test, ISO3_Codes, left_on = 'Country', right_on = 'alpha-3', how = 'left')\n",
    "Country_Code_Test = Country_Code_Test[Country_Code_Test['alpha-3'].isnull()]\n",
    "country_code_errors = len(Country_Code_Test)\n",
    "\n",
    "if len(Country_Code_Test) == 0:\n",
    "    print('No country code errors')\n",
    "    \n",
    "else:\n",
    "        print('There are ' + str(country_code_errors) + ' incorrect country codes.')\n",
    "        print(Country_Code_Test)"
   ]
  },
  {
   "cell_type": "markdown",
   "metadata": {},
   "source": [
    "Here's what the dataframe Names looks like. It is the basis of all the analysis I do from this point on, so once you put your data in this form, you can use my code to quickly and easily run similar analysis on your data. Note that I never use the Last Name data, but it could also be interesting to look at."
   ]
  },
  {
   "cell_type": "code",
   "execution_count": 101,
   "metadata": {},
   "outputs": [
    {
     "name": "stdout",
     "output_type": "stream",
     "text": [
      "  Country Gender Last Name       First Name  Count\n",
      "0     GBR   male     Farah               Mo      1\n",
      "1     ETH   male     Bayih  Mosinet Geremew      1\n",
      "2     JPN   male     Osako           Suguru      1\n",
      "3     KEN   male  Kipkemoi          Kenneth      1\n",
      "4     USA   male      Rupp            Galen      1\n",
      " \n",
      "<class 'pandas.core.frame.DataFrame'>\n",
      "RangeIndex: 44573 entries, 0 to 44572\n",
      "Data columns (total 5 columns):\n",
      "Country       44573 non-null object\n",
      "Gender        44573 non-null object\n",
      "Last Name     44573 non-null object\n",
      "First Name    44573 non-null object\n",
      "Count         44573 non-null int64\n",
      "dtypes: int64(1), object(4)\n",
      "memory usage: 1.7+ MB\n",
      "None\n"
     ]
    }
   ],
   "source": [
    "print(Names.head())\n",
    "print(' ')\n",
    "print(Names.info())"
   ]
  },
  {
   "cell_type": "markdown",
   "metadata": {},
   "source": [
    "I now create a few other dataframes that I will use later"
   ]
  },
  {
   "cell_type": "code",
   "execution_count": 102,
   "metadata": {},
   "outputs": [],
   "source": [
    "Agg_Gender = Names.groupby('Gender', as_index=False).count()[['Gender', 'Count']]\n",
    "Agg_Name = Names.groupby('First Name', as_index=False).count()[['First Name', 'Count']]\n",
    "Agg_Gender_by_Country = Names.groupby(['Country', 'Gender'], as_index=False).count()[['Country', 'Gender', 'Count']]\n",
    "Agg_Name_Country = Names.groupby(['First Name', 'Country'], as_index=False).count()\n",
    "Agg_Name_Gender = Names.groupby(['First Name', 'Gender'], as_index=False).count()[['First Name', 'Gender', 'Count']]\n",
    "Agg_Name_Gender_by_Country = Names.groupby(['First Name', 'Gender', 'Country'], as_index=False).count()\n",
    "\n",
    "#for the Agg_Name_MaxCountry dataframe, ties are broken by reverse alphabetical order\n",
    "idx = Agg_Name_Country.groupby(['First Name'])['Count'].transform(max) == Agg_Name_Country['Count']\n",
    "Agg_Name_MaxCountry = Agg_Name_Country[idx]\n",
    "idx = Agg_Name_MaxCountry.groupby(['First Name'])['Country'].transform(max) == Agg_Name_MaxCountry['Country']\n",
    "Agg_Name_MaxCountry = Agg_Name_MaxCountry[idx]"
   ]
  },
  {
   "cell_type": "markdown",
   "metadata": {},
   "source": [
    "Now it's time to start the analysis. I first look at the total number of finishers, total number of countries represented, and which countries have the most runners. Almost 2/3 of the runners are from the United States, which makes sense considering the race takes place there and it would require a long flight to get to Chicago from anywhere outside the US except for a few parts of Canada."
   ]
  },
  {
   "cell_type": "code",
   "execution_count": 103,
   "metadata": {},
   "outputs": [
    {
     "name": "stdout",
     "output_type": "stream",
     "text": [
      "\n",
      "There are 44573 finishers.\n",
      "\n",
      "There are 121 countries represented.\n",
      "\n",
      "Here are the ones with the most representation\n",
      "    Country  Count  Percent\n",
      "114     USA  29129     65.4\n",
      "71      MEX   2025      4.5\n",
      "20      CAN   1411      3.2\n",
      "43      GBR   1395      3.1\n",
      "23      CHN   1227      2.8\n"
     ]
    }
   ],
   "source": [
    "#Calculating the total number of finishers\n",
    "total_finishers = len(Names)\n",
    "print('')\n",
    "print('There are ' + str(total_finishers) + ' finishers.')\n",
    "\n",
    "#Analyzing finishers by country\n",
    "total_countries = len(Agg_Country)\n",
    "print()\n",
    "print('There are ' + str(total_countries) + ' countries represented.')\n",
    "\n",
    "#Viewing the countries with the most representation\n",
    "Agg_Country['Percent'] = 100 * round(Agg_Country['Count'] / total_finishers,3)\n",
    "print()\n",
    "print('Here are the ones with the most representation')\n",
    "print(Agg_Country.sort_values('Count', ascending = False).head(5))"
   ]
  },
  {
   "cell_type": "markdown",
   "metadata": {},
   "source": [
    "I use this data to create a map which shows the number of participants by country. Hovering over each country gives the exact number of participants."
   ]
  },
  {
   "cell_type": "code",
   "execution_count": 104,
   "metadata": {},
   "outputs": [
    {
     "data": {
      "text/html": [
       "<iframe id=\"igraph\" scrolling=\"no\" style=\"border:none;\" seamless=\"seamless\" src=\"https://plot.ly/~NickVance/2.embed\" height=\"525px\" width=\"100%\"></iframe>"
      ],
      "text/plain": [
       "<plotly.tools.PlotlyDisplay object>"
      ]
     },
     "execution_count": 104,
     "metadata": {},
     "output_type": "execute_result"
    }
   ],
   "source": [
    "#Create a new dataframe to be used in the visualization of participants by country\n",
    "By_Country = Agg_Country.copy()\n",
    "\n",
    "data_country = [ dict(\n",
    "        type = 'choropleth',\n",
    "        locations = By_Country['Country'],\n",
    "        z = By_Country['Count'],\n",
    "        #Don't like the coloring - can I adjust it somehow to make it clearer?\n",
    "        colorscale = [[0,\"rgb(0, 200, 0)\"],[1/10000,\"rgb(0, 160, 0)\"],[1/1000,\"rgb(0, 120, 0)\"],\\\n",
    "            [1/100,\"rgb(0, 80, 0)\"],[1/10,\"rgb(0, 40, 0)\"],[1,\"rgb(0, 0, 0)\"]],\n",
    "        reversescale = False,\n",
    "        marker = dict(\n",
    "            line = dict (\n",
    "                color = 'rgb(180,180,180)',\n",
    "                width = 0.5\n",
    "            ) ),\n",
    "        colorbar = dict(\n",
    "            autotick = False,\n",
    "            title = 'Number of Finishers'),\n",
    "      ) ]\n",
    "\n",
    "layout_country = dict(\n",
    "    annotations=[\n",
    "        dict(\n",
    "            x=0.50,\n",
    "            y=0.05,\n",
    "            showarrow=False,\n",
    "            xref='paper',\n",
    "            yref='paper'\n",
    "        )],\n",
    "    title = '2018 Chicago Marathon <br> Finishers by Country',\n",
    "    geo = dict(\n",
    "        showframe = True,\n",
    "        showcountries = True,\n",
    "        countrywidth = .5,\n",
    "        showcoastlines = True,\n",
    "        coastlinewidth = .5,\n",
    "        projection = dict(\n",
    "            type = 'Mercator'\n",
    "        )\n",
    "    )\n",
    ")\n",
    "\n",
    "fig = dict( data=data_country, layout=layout_country )\n",
    "\n",
    "py.plotly.iplot(fig, validate=False, filename='chicago_marathon_finishers_by_country_map.html')"
   ]
  },
  {
   "cell_type": "markdown",
   "metadata": {},
   "source": [
    "There were 19 countries that had exactly one finisher, and here's a map of them."
   ]
  },
  {
   "cell_type": "code",
   "execution_count": 105,
   "metadata": {},
   "outputs": [
    {
     "name": "stdout",
     "output_type": "stream",
     "text": [
      "\n",
      "There are 19 runners who had no fellow countrymen or countrywomen.\n",
      "Those countries are:\n",
      "    Country  Count\n",
      "0       ABW      1\n",
      "2       ALB      1\n",
      "3       AND      1\n",
      "4       ARE      1\n",
      "8       BDI      1\n",
      "13      BIH      1\n",
      "15      BLZ      1\n",
      "25      CPV      1\n",
      "35      DZA      1\n",
      "59      JOR      1\n",
      "72      MLI      1\n",
      "73      MLT      1\n",
      "75      MRT      1\n",
      "88      PLW      1\n",
      "96      SAU      1\n",
      "97      SEN      1\n",
      "100     SMR      1\n",
      "105     TJK      1\n",
      "115     UZB      1\n"
     ]
    },
    {
     "data": {
      "text/html": [
       "<iframe id=\"igraph\" scrolling=\"no\" style=\"border:none;\" seamless=\"seamless\" src=\"https://plot.ly/~NickVance/4.embed\" height=\"525px\" width=\"100%\"></iframe>"
      ],
      "text/plain": [
       "<plotly.tools.PlotlyDisplay object>"
      ]
     },
     "execution_count": 105,
     "metadata": {},
     "output_type": "execute_result"
    }
   ],
   "source": [
    "#Creating a dataframe that shows which countries only had one runner finish\n",
    "One_Runner = Agg_Country[Agg_Country['Count'] == 1]\n",
    "del One_Runner['Percent']\n",
    "one_runner_count = len(One_Runner)\n",
    "print()\n",
    "print('There are ' + str(one_runner_count) + ' runners who had no fellow countrymen or countrywomen.')\n",
    "print('Those countries are:')\n",
    "print(One_Runner)\n",
    "\n",
    "#Visualization of the One_Runner dataframe\n",
    "data_country = [ dict(\n",
    "        type = 'choropleth',\n",
    "        locations = One_Runner['Country'],\n",
    "        z = One_Runner['Count'],\n",
    "        #Don't like the coloring - can I adjust it somehow to make it clearer?\n",
    "        #colorscale = [[0,\"rgb(0, 200, 0)\"],[1/10000,\"rgb(0, 160, 0)\"],[1/1000,\"rgb(0, 120, 0)\"],\\\n",
    "         #   [1/100,\"rgb(0, 80, 0)\"],[1/10,\"rgb(0, 40, 0)\"],[1,\"rgb(0, 0, 0)\"]],\n",
    "        #reversescale = False,\n",
    "      ) ]\n",
    "\n",
    "layout_country = dict(\n",
    "    title = '2018 Chicago Marathon <br> Countries with Exactly One Finisher',\n",
    "    showscale = False,\n",
    "    geo = dict(\n",
    "        showframe = True,\n",
    "        showcountries = True,\n",
    "        countrywidth = .5,\n",
    "        showcoastlines = True,\n",
    "        coastlinewidth = .5,\n",
    "        projection = dict(\n",
    "            type = 'Mercator'\n",
    "        )\n",
    "    )\n",
    ")\n",
    "\n",
    "fig = dict( data=data_country, layout=layout_country )\n",
    "\n",
    "py.plotly.iplot(fig, validate=False, filename='chicago_marathon_countries_with_one_finisher.html')\n"
   ]
  },
  {
   "cell_type": "markdown",
   "metadata": {},
   "source": [
    "There was some interesting data surrounding gender. Of countries with more than 50 finishers (44 countries), only one had more women than men. That was the US, with 52 percent of the finishers being female. On the other end of the spectrum, you had India (12 percent female) and Spain (15 percent female). Here's a map with all 44 of those countries and the exact numbers of male and female finishers.\n",
    "\n",
    "It would be interesting to see how these percentages vary for other running races in other countries. Are there simply fewer female runners, do female runners tend to run marathon less often, or do they simply travel to other countries for marathons less often?"
   ]
  },
  {
   "cell_type": "code",
   "execution_count": 106,
   "metadata": {},
   "outputs": [
    {
     "name": "stdout",
     "output_type": "stream",
     "text": [
      "\n",
      "The finishers are 54.0% male.\n",
      " \n",
      "High five! You successfully sent some data to your account on plotly. View your plot in your browser at https://plot.ly/~NickVance/0 or inside your plot.ly account where it is named 'chicago_marathon_gender_by_country_map'\n"
     ]
    },
    {
     "data": {
      "text/html": [
       "<iframe id=\"igraph\" scrolling=\"no\" style=\"border:none;\" seamless=\"seamless\" src=\"https://plot.ly/~NickVance/0.embed\" height=\"525px\" width=\"100%\"></iframe>"
      ],
      "text/plain": [
       "<plotly.tools.PlotlyDisplay object>"
      ]
     },
     "execution_count": 106,
     "metadata": {},
     "output_type": "execute_result"
    }
   ],
   "source": [
    "#Analyzing finishers by gender - overall\n",
    "number_of_males = Agg_Gender.loc[Agg_Gender['Gender'] == 'male', 'Count'].iloc[0]\n",
    "number_of_females = Agg_Gender.loc[Agg_Gender['Gender'] == 'female', 'Count'].iloc[0]\n",
    "percent_male = number_of_males / total_finishers\n",
    "print()\n",
    "print('The finishers are ' + str(100*round(percent_male,2)) + '% male.')\n",
    "\n",
    "#Looking at the gender division by country - create a dataframe that lists each country, the number and percent of male and female finishers\n",
    "Gender_by_Country = Agg_Gender_by_Country.pivot(index = 'Country', columns = 'Gender')\n",
    "Gender_by_Country.columns = ['Female', 'Male']\n",
    "Gender_by_Country.fillna(0, inplace = True)\n",
    "Gender_by_Country.reset_index(inplace=True)\n",
    "Gender_by_Country['Total'] = Gender_by_Country['Male'] + Gender_by_Country['Female']\n",
    "Gender_by_Country['Percent Male'] = 100*round(Gender_by_Country['Male'] / Gender_by_Country['Total'],3)\n",
    "Gender_by_Country['Percent Female'] = 100*round(Gender_by_Country['Female'] / Gender_by_Country['Total'],3)\n",
    "Gender_by_Country['Male'] = Gender_by_Country['Male'].astype('int')\n",
    "Gender_by_Country['Female'] = Gender_by_Country['Female'].astype('int')\n",
    "#Look at the countries with at least x finishers\n",
    "Gender_by_Country = Gender_by_Country[Gender_by_Country['Total'] > 50]\n",
    "Gender_by_Country['Map Text'] = Gender_by_Country['Male'].astype('str') + ' Males, ' + Gender_by_Country['Female'].astype('str') + ' Females'\n",
    "\n",
    "#Visualizing the gender breakdown by country\n",
    "\n",
    "data_gender = [dict(\n",
    "        type = 'choropleth',\n",
    "        locations = Gender_by_Country['Country'],\n",
    "        z = Gender_by_Country['Percent Female'],\n",
    "        text = Gender_by_Country['Map Text'],\n",
    "        name = Gender_by_Country['Total'],\n",
    "        colorscale = [[0,\"rgb(200, 0, 0)\"],[20,\"rgb(160, 0, 0)\"],[40,\"rgb(120, 0, 0)\"],\\\n",
    "            [60,\"rgb(80, 0, 0)\"],[80,\"rgb(40, 0, 0)\"],[100,\"rgb(0, 0, 0)\"]],\n",
    "        reversescale = True,\n",
    "        marker = dict(\n",
    "            line = dict (\n",
    "                color = 'rgb(180,180,180)',\n",
    "                width = 0.5\n",
    "            ) ),\n",
    "        colorbar = dict(\n",
    "            autotick = False,\n",
    "            ticksuffix = ' %',\n",
    "            title = 'Percentage of Female Runners'),\n",
    "      )]\n",
    "\n",
    "layout_gender = dict(\n",
    "    annotations=[\n",
    "        dict(\n",
    "            x=0.50,\n",
    "            y=0.05,\n",
    "            showarrow=False,\n",
    "            text='Note: Countries with less than 50 runners are ignored',\n",
    "            xref='paper',\n",
    "            yref='paper'\n",
    "        )],\n",
    "    title = '2018 Chicago Marathon <br> Percentage of Female Runners (by Country)',\n",
    "    geo = dict(\n",
    "        showframe = True,\n",
    "        showcountries = True,\n",
    "        countrywidth = .5,\n",
    "        showcoastlines = True,\n",
    "        coastlinewidth = .5,\n",
    "        projection = dict(\n",
    "            type = 'Mercator'\n",
    "        )\n",
    "    )\n",
    ")\n",
    "\n",
    "fig = dict(data=data_gender, layout=layout_gender)\n",
    "\n",
    "print(' ')\n",
    "py.plotly.iplot(fig, validate=False, filename='chicago_marathon_gender_by_country_map')"
   ]
  },
  {
   "cell_type": "markdown",
   "metadata": {},
   "source": [
    "Then I moved on to analyzing names.\n",
    "\n",
    "First, here are the most common names. Really interesting to me is the name Jennifer, which is the 4th most common name in the whole race, with the vast majority of Jennifer's coming from the US. It must not be a common name anywhere else."
   ]
  },
  {
   "cell_type": "code",
   "execution_count": 107,
   "metadata": {},
   "outputs": [
    {
     "name": "stdout",
     "output_type": "stream",
     "text": [
      "\n",
      "     First Name  Total  USA  Non-USA  Percent USA\n",
      "5983    Michael    661  577       84    87.291982\n",
      "1851      David    466  344      122    73.819742\n",
      "4015       John    435  383       52    88.045977\n",
      "3783   Jennifer    348  328       20    94.252874\n",
      "1776     Daniel    297  212       85    71.380471\n"
     ]
    }
   ],
   "source": [
    "#For each name, break down how many finishers are from the US and how many not from the US\n",
    "By_Name = pd.merge(Agg_Name, Agg_Name_Country[Agg_Name_Country['Country'] == 'USA'], on='First Name', how='left')\n",
    "del By_Name['Gender']\n",
    "del By_Name['Country']\n",
    "del By_Name['Last Name']\n",
    "By_Name.columns = ['First Name', 'Total', 'USA']\n",
    "By_Name.fillna(0, inplace=True)\n",
    "By_Name['USA'] = By_Name['USA'].astype('int')\n",
    "By_Name['Non-USA'] = By_Name['Total'] - By_Name['USA']\n",
    "By_Name['Percent USA'] = 100 * By_Name['USA'] / By_Name['Total']\n",
    "\n",
    "#Look at the most common names in total\n",
    "By_Name.sort_values('Total', inplace=True, ascending=False)\n",
    "print('')\n",
    "print(By_Name.head())"
   ]
  },
  {
   "cell_type": "markdown",
   "metadata": {},
   "source": [
    "Here are the names that were common among non-Americans. Carlos and Luis are extremely common around the world - mostly in Latin America - but not so common in the United States. The name David is interesting. The ratio of David's among American and non-American runners is quite stable, showing it's popularity both in the US and around the world."
   ]
  },
  {
   "cell_type": "code",
   "execution_count": 108,
   "metadata": {},
   "outputs": [
    {
     "name": "stdout",
     "output_type": "stream",
     "text": [
      "\n",
      "     First Name  Total  USA  Non-USA  Percent USA\n",
      "1851      David    466  344      122    73.819742\n",
      "4101       Jose    184   82      102    44.565217\n",
      "1146     Carlos    143   43      100    30.069930\n",
      "5564      Maria    188   92       96    48.936170\n",
      "5262       Luis    130   43       87    33.076923\n"
     ]
    }
   ],
   "source": [
    "#Look at the most common names among non-Americans\n",
    "By_Name.sort_values('Non-USA', inplace=True, ascending=False)\n",
    "print('')\n",
    "print(By_Name.head())"
   ]
  },
  {
   "cell_type": "markdown",
   "metadata": {},
   "source": [
    "I'm really interested in gender-neutral names, so I also looked at names that aren't exclusive to one gender. \n",
    "\n",
    "Andrea was an interesting one: among the runners in the Chicago Marathon, it was exclusively female for all countries except for one, Italy, where it was only a male name.\n",
    "\n",
    "Jaime is also interested. It is a typical name in Spanish-speaking countries for males, and in the US it is an alternative spelling of Jamie, a name that is actually gender-neutral in the US."
   ]
  },
  {
   "cell_type": "code",
   "execution_count": 109,
   "metadata": {},
   "outputs": [
    {
     "name": "stdout",
     "output_type": "stream",
     "text": [
      "     First Name  Total  USA  Non-USA  Percent USA  Males  Females  \\\n",
      "214       Jamie     60   49       11    81.666667   17.0     43.0   \n",
      "6311     Jordan     50   49        1    98.000000   31.0     19.0   \n",
      "132       Jaime     44   28       16    63.636364   23.0     21.0   \n",
      "584       Robin     32   27        5    84.375000    7.0     25.0   \n",
      "406      Alexis     28   22        6    78.571429    8.0     20.0   \n",
      "\n",
      "      Percent Male  \n",
      "214       0.283333  \n",
      "6311      0.620000  \n",
      "132       0.522727  \n",
      "584       0.218750  \n",
      "406       0.285714  \n",
      "\n",
      "    First Name  Gender Country  Last Name  Count\n",
      "680     Andrea  female     ARG          2      2\n",
      "681     Andrea  female     AUS          2      2\n",
      "682     Andrea  female     AUT          1      1\n",
      "683     Andrea  female     BRA          3      3\n",
      "684     Andrea  female     CAN          5      5\n",
      "685     Andrea  female     CHL          2      2\n",
      "686     Andrea  female     COL         10     10\n",
      "687     Andrea  female     CRI          3      3\n",
      "688     Andrea  female     DEU          2      2\n",
      "689     Andrea  female     ECU          1      1\n",
      "690     Andrea  female     ESP          1      1\n",
      "691     Andrea  female     GBR          2      2\n",
      "692     Andrea  female     GTM          4      4\n",
      "693     Andrea  female     HRV          1      1\n",
      "694     Andrea  female     MEX         11     11\n",
      "695     Andrea  female     PAN          1      1\n",
      "696     Andrea  female     USA         72     72\n",
      "697     Andrea    male     ITA         18     18\n",
      "\n",
      "     First Name  Gender Country  Last Name  Count\n",
      "5659      Jaime  female     CAN          1      1\n",
      "5660      Jaime  female     USA         20     20\n",
      "5661      Jaime    male     COL          2      2\n",
      "5662      Jaime    male     DOM          1      1\n",
      "5663      Jaime    male     ECU          2      2\n",
      "5664      Jaime    male     ESP          1      1\n",
      "5665      Jaime    male     MEX          8      8\n",
      "5666      Jaime    male     PER          1      1\n",
      "5667      Jaime    male     USA          8      8\n"
     ]
    }
   ],
   "source": [
    "#Add data on the gender-breakdown of names to the By_Name dataframe\n",
    "By_Name = pd.merge(By_Name, Agg_Name_Gender[Agg_Name_Gender['Gender'] == 'male'], on = 'First Name', how = 'left')\n",
    "By_Name.fillna(0, inplace=True)\n",
    "del By_Name['Gender']\n",
    "By_Name = pd.merge(By_Name, Agg_Name_Gender[Agg_Name_Gender['Gender'] == 'female'], on = 'First Name', how = 'left')\n",
    "By_Name.fillna(0, inplace=True)\n",
    "del By_Name['Gender']\n",
    "By_Name.columns = ['First Name', 'Total', 'USA', 'Non-USA', 'Percent USA', 'Males', 'Females']\n",
    "By_Name['Percent Male'] = By_Name['Males'] / (By_Name['Males'] + By_Name['Females'])\n",
    "\n",
    "#Create a dataframe that has names with a substantial number from each gender\n",
    "Gender_Neutral = By_Name[(By_Name['Percent Male'] > .2) & (By_Name['Percent Male'] < .8) & (By_Name['Total'] > 15)]\n",
    "Gender_Neutral = Gender_Neutral.sort_values(by = ['Total'], ascending = False)\n",
    "print(Gender_Neutral.head())\n",
    "\n",
    "#Create individual dataframes for some names that are gender neutral to examine country-level effects\n",
    "Andrea = Agg_Name_Gender_by_Country[Agg_Name_Gender_by_Country['First Name'] == 'Andrea']\n",
    "Jamie = Agg_Name_Gender_by_Country[Agg_Name_Gender_by_Country['First Name'] == 'Jamie']\n",
    "Jaime = Agg_Name_Gender_by_Country[Agg_Name_Gender_by_Country['First Name'] == 'Jaime']\n",
    "Jan = Agg_Name_Gender_by_Country[Agg_Name_Gender_by_Country['First Name'] == 'Jan']\n",
    "Jordan = Agg_Name_Gender_by_Country[Agg_Name_Gender_by_Country['First Name'] == 'Jordan']\n",
    "Lee = Agg_Name_Gender_by_Country[Agg_Name_Gender_by_Country['First Name'] == 'Lee']\n",
    "\n",
    "print('')\n",
    "print(Andrea)\n",
    "print('')\n",
    "print(Jaime)"
   ]
  },
  {
   "cell_type": "markdown",
   "metadata": {},
   "source": [
    "I was also interested in what names were the most \"American\": names that were fairly common among Americans but didn't have finishers from any other countries. The winner of that competition was Joshua - there were 84 Joshua's who completed the marathon, and no one from any other country."
   ]
  },
  {
   "cell_type": "code",
   "execution_count": 110,
   "metadata": {},
   "outputs": [
    {
     "name": "stdout",
     "output_type": "stream",
     "text": [
      "\n",
      "     First Name  Total  USA  Non-USA\n",
      "6560     Joshua     84   84        0\n",
      "6533      Molly     60   60        0\n",
      "6532    Kristen     58   58        0\n",
      "6653    Brandon     56   56        0\n",
      "6588      Jenna     52   52        0\n"
     ]
    }
   ],
   "source": [
    "#All-American names\n",
    "All_American_Names = By_Name.copy()\n",
    "All_American_Names = All_American_Names[All_American_Names['Non-USA'] == 0]\n",
    "All_American_Names = All_American_Names[['First Name', 'Total', 'USA', 'Non-USA']]\n",
    "All_American_Names.sort_values('Total', inplace=True, ascending=False)\n",
    "print('')\n",
    "print(All_American_Names.head())"
   ]
  },
  {
   "cell_type": "markdown",
   "metadata": {},
   "source": [
    "I have some ideas for future analysis and projects. Feel free to take them and work on them yourself. If you do so, I'd love to see your work. We could also maybe work on something related to these together.\n",
    "- Create an algorithm that guesses the country of origin based on information like gender, name, etc.\n",
    "- Look at the data based on finishing time / place. Could look at how the country distribution changes based on how fast the runners are.\n",
    "- Look at the same data for other marathons. Especially with gender ratios. Is a certain gender more or less likely to travel to different places? \n",
    "- Look at how the data changes over time for the same race. Are the gender ratios changing overall? Is it driven by real change, or merely demographic changes in the participants? For example, more Americans running and their gender ratio staying the same could lead to more than 46 percent of the runners overall being female.\n",
    "- Examine people by the languages of their countries. What languages are the most common? \n",
    "- How to deal with double names? Look at the various double names and see what interesting stuff comes out.\n",
    "- Create a visualization of the names used.\n",
    "\n",
    "A few issues with the data I should let you know about:\n",
    "- The country of origin is self-reporting. And I don't know if that is based on citizenship (and dual citizens exist), place of birth, residency, etc. For example, I am from the US but have German residency. Would I be listed under USA or Germany?\n",
    "- This is finishers data, not participants data. It doesn't include people who started but didn't finish the race.\n",
    "- I scraped the data on October 8, 2018 - the day after the race. The results were unofficial, so there might have been changes since then. However, for this kind of analysis, it's unlikely there would be significant changes."
   ]
  }
 ],
 "metadata": {
  "kernelspec": {
   "display_name": "Python 3",
   "language": "python",
   "name": "python3"
  },
  "language_info": {
   "codemirror_mode": {
    "name": "ipython",
    "version": 3
   },
   "file_extension": ".py",
   "mimetype": "text/x-python",
   "name": "python",
   "nbconvert_exporter": "python",
   "pygments_lexer": "ipython3",
   "version": "3.7.2"
  }
 },
 "nbformat": 4,
 "nbformat_minor": 2
}
